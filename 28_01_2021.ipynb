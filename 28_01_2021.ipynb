{
  "nbformat": 4,
  "nbformat_minor": 0,
  "metadata": {
    "colab": {
      "name": "28_01_2021.ipynb",
      "provenance": [],
      "authorship_tag": "ABX9TyPsJM7LZ/YiKFashaCZNpEy",
      "include_colab_link": true
    },
    "kernelspec": {
      "name": "python3",
      "display_name": "Python 3"
    }
  },
  "cells": [
    {
      "cell_type": "markdown",
      "metadata": {
        "id": "view-in-github",
        "colab_type": "text"
      },
      "source": [
        "<a href=\"https://colab.research.google.com/github/shiningharbor/28_01_2021/blob/main/28_01_2021.ipynb\" target=\"_parent\"><img src=\"https://colab.research.google.com/assets/colab-badge.svg\" alt=\"Open In Colab\"/></a>"
      ]
    },
    {
      "cell_type": "markdown",
      "metadata": {
        "id": "CCFiUduuBz0f"
      },
      "source": [
        "# Tuplas\r\n",
        "- Tipo de dato líneal, estructura de satos.\r\n",
        "- No mutable.\r\n",
        "- Puedes contener de 0 a n elementos\r\n",
        "- Se declara con '(' y')'\r\n",
        "- No puedes agregar, ni eliminar elementos.\r\n",
        "- Pueden ser anidadas.\r\n",
        "- Los argumentos a una función coenviadas como tuplas"
      ]
    },
    {
      "cell_type": "code",
      "metadata": {
        "colab": {
          "base_uri": "https://localhost:8080/"
        },
        "id": "QDxk02w6BwhE",
        "outputId": "4fab9d22-584a-4d1e-e9f5-3d4dbdfe7b02"
      },
      "source": [
        "frutas = ('Sandía', 'Melón', 'Limón', 'Mango')\r\n",
        "print(frutas)\r\n",
        "print(frutas[1:3:1])\r\n",
        "print(frutas.count('Melón'))\r\n",
        "\r\n",
        "# Son inmutables\r\n",
        "# frutas[1] = 'Manzana'\r\n",
        "\r\n",
        "# ¿Para que se usan?\r\n",
        "conexion= ('123.248.12.12', 3306, 'cyp_bd', 'usr_test', '1234dios')\r\n",
        "print(f\"usuario: { conexion[3] } y password: {conexion[4]}\")"
      ],
      "execution_count": 8,
      "outputs": [
        {
          "output_type": "stream",
          "text": [
            "('Sandía', 'Melón', 'Limón', 'Mango')\n",
            "('Melón', 'Limón')\n",
            "1\n",
            "usuario: usr_test y password: 1234dios\n"
          ],
          "name": "stdout"
        }
      ]
    },
    {
      "cell_type": "code",
      "metadata": {
        "colab": {
          "base_uri": "https://localhost:8080/"
        },
        "id": "iDpiOAGQDXPM",
        "outputId": "7dc7524e-a93e-4dfc-a816-67bf33710faf"
      },
      "source": [
        "print(dir(frutas))"
      ],
      "execution_count": 3,
      "outputs": [
        {
          "output_type": "stream",
          "text": [
            "['__add__', '__class__', '__contains__', '__delattr__', '__dir__', '__doc__', '__eq__', '__format__', '__ge__', '__getattribute__', '__getitem__', '__getnewargs__', '__gt__', '__hash__', '__init__', '__init_subclass__', '__iter__', '__le__', '__len__', '__lt__', '__mul__', '__ne__', '__new__', '__reduce__', '__reduce_ex__', '__repr__', '__rmul__', '__setattr__', '__sizeof__', '__str__', '__subclasshook__', 'count', 'index']\n"
          ],
          "name": "stdout"
        }
      ]
    },
    {
      "cell_type": "markdown",
      "metadata": {
        "id": "gdQK277lFw7z"
      },
      "source": [
        "# Diccionarios\r\n",
        "- Estructura de datos semi lienal.\r\n",
        "- Formada por pares, llave - valor.\r\n",
        "-Equivalentes al tipo de dato JSON, de JavaScript.\r\n",
        "- Utiliza organización por funcion de dispersión.\r\n",
        "- Se declara con los elementos '{' y '}'\r\n",
        "- El selector usa valores de tipo string (llave)\r\n",
        "- No se puede seleccionar por offset [1]\r\n",
        "- Son mutables."
      ]
    },
    {
      "cell_type": "code",
      "metadata": {
        "colab": {
          "base_uri": "https://localhost:8080/"
        },
        "id": "5OFXZYfwFwdE",
        "outputId": "a51f0d86-7b79-4af7-953c-3760a1a2c50d"
      },
      "source": [
        "alumno = { 'Nombre' : 'Juan Pérez', \r\n",
        "          'Edad':'18', \r\n",
        "          'Numero de cuenta':318176570,\r\n",
        "          'Grupo':'1157', \r\n",
        "          'Fecha de nacimiento':'13/05/2001'}\r\n",
        "print(alumno)\r\n",
        "print(alumno['Nombre'])"
      ],
      "execution_count": 10,
      "outputs": [
        {
          "output_type": "stream",
          "text": [
            "{'Nombre': 'Juan Pérez', 'Edad': '18', 'Numero de cuenta': 318180070}\n",
            "Juan Pérez\n"
          ],
          "name": "stdout"
        }
      ]
    },
    {
      "cell_type": "code",
      "metadata": {
        "id": "4qKgd3FpMSq4"
      },
      "source": [
        "#  kareli\r\n",
        "alumno = {    'nombre'  : 'Juan Pérez'  ,\r\n",
        "          'edad' : 18, \r\n",
        "          'Matricula': 312193,\r\n",
        "          'calificaciones' : {'Mate': 8 , 'ciencias': 9, 'ingles': 8 },\r\n",
        "          'aprovado' : True,\r\n",
        "          'direccion': {\r\n",
        "                        'calle':'Rancho seco',\r\n",
        "                        'numero': 's/n',\r\n",
        "                        'colonia': 'impulsora popular avicola',\r\n",
        "                        'municipio': 'Mi-nezota',\r\n",
        "                        'estado':{\r\n",
        "                                   'clave':15,\r\n",
        "                                   'nombre_clave':'MEX',\r\n",
        "                                   'nombre':\"Estado de México\"\r\n",
        "                                  }\r\n",
        "                       }\r\n",
        "          }"
      ],
      "execution_count": null,
      "outputs": []
    }
  ]
}